{
 "cells": [
  {
   "cell_type": "code",
   "execution_count": null,
   "id": "c9a16037",
   "metadata": {},
   "outputs": [],
   "source": [
    "import gensim\n",
    "import numpy as np\n",
    "# Load the FastText pre-trained model\n",
    "model = gensim.models.fasttext.load_facebook_model('cc.en.300.bin')\n",
    "def get_fasttext_vector(line):\n",
    "    vec = np.zeros(300) # Initialize an empty 300-dimensional vector\n",
    "    for word in line.split():\n",
    "    vec += model.wv[word]\n",
    "    vec /= len(line.split()) # Take the average over all words in the line\n",
    "    return vec"
   ]
  }
 ],
 "metadata": {
  "kernelspec": {
   "display_name": "Python 3 (ipykernel)",
   "language": "python",
   "name": "python3"
  },
  "language_info": {
   "codemirror_mode": {
    "name": "ipython",
    "version": 3
   },
   "file_extension": ".py",
   "mimetype": "text/x-python",
   "name": "python",
   "nbconvert_exporter": "python",
   "pygments_lexer": "ipython3",
   "version": "3.10.9"
  }
 },
 "nbformat": 4,
 "nbformat_minor": 5
}
