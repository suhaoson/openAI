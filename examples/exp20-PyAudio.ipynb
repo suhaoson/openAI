{
 "cells": [
  {
   "cell_type": "code",
   "execution_count": null,
   "id": "f67928e0",
   "metadata": {},
   "outputs": [],
   "source": [
    "import wave\n",
    "import pyaudio"
   ]
  },
  {
   "cell_type": "code",
   "execution_count": null,
   "id": "acbb7e7b",
   "metadata": {},
   "outputs": [],
   "source": [
    "def play_wav_audio(wav_file):\n",
    "    # open the wave file\n",
    "    wf = wave.open(wav_file, 'rb')\n",
    "    \n",
    "    # instantiate PyAudio\n",
    "    p = pyaudio.PyAudio()\n",
    "    \n",
    "    # open a stream\n",
    "    stream = p.open(format=p.get_format_from_width(wf.getsampwidth()),\n",
    "        channels=wf.getnchannels(),\n",
    "        rate=wf.getframerate(),\n",
    "        output=True)\n",
    "    \n",
    "    # read data from the wave file and play it\n",
    "    data = wf.readframes(1024)\n",
    "    while data:\n",
    "        stream.write(data)\n",
    "        data = wf.readframes(1024)\n",
    "        \n",
    "    # close the stream and terminate PyAudio\n",
    "    stream.stop_stream()\n",
    "    stream.close()\n",
    "    p.terminate()"
   ]
  },
  {
   "cell_type": "code",
   "execution_count": null,
   "id": "f31a4870",
   "metadata": {},
   "outputs": [],
   "source": [
    "play_wav_audio(output_file)"
   ]
  },
  {
   "cell_type": "code",
   "execution_count": null,
   "id": "300296b2",
   "metadata": {},
   "outputs": [],
   "source": [
    "tts_executor = TTSExecutor()"
   ]
  },
  {
   "cell_type": "code",
   "execution_count": null,
   "id": "dcfb821a",
   "metadata": {},
   "outputs": [],
   "source": [
    "# text = \"今天天气十分不错，Paddle Speech也能做语音合成。\"\n",
    "# output_file = \"./data/paddlespeech_missing.wav\"\n",
    "# tts_executor(text=text, output=output_file)\n",
    "\n",
    "# play_wav_audio(output_file)"
   ]
  },
  {
   "cell_type": "code",
   "execution_count": null,
   "id": "b7dce6c4",
   "metadata": {},
   "outputs": [],
   "source": [
    "# 通过一些参数，中英文混合的语音合成\n",
    "text = \"早上好, how are you? 百度Paddle Speech一样能做中英文混合的语音合成。\"\n",
    "output_file = \"./data/paddlespeech_mix.wav\"\n",
    "tts_executor(text=text, output=output_file,\n",
    "am=\"fastspeech2_mix\", voc=\"hifigan_csmsc\",\n",
    "lang=\"mix\", spk_id=174)\n",
    "\n",
    "play_wav_audio(output_file)"
   ]
  }
 ],
 "metadata": {
  "kernelspec": {
   "display_name": "Python 3 (ipykernel)",
   "language": "python",
   "name": "python3"
  },
  "language_info": {
   "codemirror_mode": {
    "name": "ipython",
    "version": 3
   },
   "file_extension": ".py",
   "mimetype": "text/x-python",
   "name": "python",
   "nbconvert_exporter": "python",
   "pygments_lexer": "ipython3",
   "version": "3.10.11"
  }
 },
 "nbformat": 4,
 "nbformat_minor": 5
}
