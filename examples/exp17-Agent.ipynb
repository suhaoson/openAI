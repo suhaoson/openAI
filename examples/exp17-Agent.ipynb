{
 "cells": [
  {
   "cell_type": "code",
   "execution_count": null,
   "id": "ef7505b2",
   "metadata": {},
   "outputs": [],
   "source": [
    "\n",
    "from langchain.agents import initialize_agent, Tool\n",
    "from langchain.llms import OpenAI\n",
    "\n",
    "llm = OpenAI(temperature=0)\n",
    "\n",
    "def search_order(input: str) -> str:\n",
    "    return \"订单状态：已发货；发货日期：2023-01-01；预计送达时间：2023-01-10\"\n",
    "\n",
    "def recommend_product(input: str) -> str:\n",
    "    return \"红色连衣裙\"\n",
    "\n",
    "def faq(intput: str) -> str:\n",
    "    return \"7天无理由退货\"\n",
    "\n",
    "tools = [\n",
    "    Tool(\n",
    "        name = \"Search Order\",func=search_order, \n",
    "        description=\"useful for when you need to answer questions about customers orders\"\n",
    "    ),\n",
    "    Tool(name=\"Recommend Product\", func=recommend_product, \n",
    "         description=\"useful for when you need to answer questions about product recommendations\"\n",
    "    ),\n",
    "    Tool(name=\"FAQ\", func=faq,\n",
    "         description=\"useful for when you need to answer questions about shopping policies, like return policy, shipping policy, etc.\"\n",
    "    )\n",
    "]\n",
    "\n",
    "agent = initialize_agent(tools, llm, agent=\"zero-shot-react-description\", verbose=True)"
   ]
  }
 ],
 "metadata": {
  "kernelspec": {
   "display_name": "Python 3 (ipykernel)",
   "language": "python",
   "name": "python3"
  },
  "language_info": {
   "codemirror_mode": {
    "name": "ipython",
    "version": 3
   },
   "file_extension": ".py",
   "mimetype": "text/x-python",
   "name": "python",
   "nbconvert_exporter": "python",
   "pygments_lexer": "ipython3",
   "version": "3.10.11"
  }
 },
 "nbformat": 4,
 "nbformat_minor": 5
}
