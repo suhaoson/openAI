{
 "cells": [
  {
   "cell_type": "code",
   "execution_count": 1,
   "id": "2791af03",
   "metadata": {},
   "outputs": [],
   "source": [
    "import openai, os\n",
    "from langchain.chains import LLMRequestsChain\n",
    "from langchain.prompts import PromptTemplate\n",
    "from langchain.llms import OpenAI\n",
    "from langchain.chains import LLMChain"
   ]
  },
  {
   "cell_type": "code",
   "execution_count": 2,
   "id": "8e7335fb",
   "metadata": {},
   "outputs": [],
   "source": [
    "os.environ['OPENAI_API_KEY'] = '*'\n",
    "openai.api_key = os.environ.get(\"OPENAI_API_KEY\")"
   ]
  },
  {
   "cell_type": "code",
   "execution_count": 3,
   "id": "a7d2f102",
   "metadata": {},
   "outputs": [],
   "source": [
    "template = \"\"\"在 >>> 和 <<< 直接是来自Google的原始搜索结果.\n",
    "请把对于问题 '{query}' 的答案从里面提取出来，如果里面没有相关信息的话就说 \"找不到\"\n",
    "请使用如下格式：\n",
    "Extracted:\n",
    ">>> {requests_result} <<\n",
    "Extracted:\"\"\"\n",
    "PROMPT = PromptTemplate( \n",
    "    input_variables=[\"query\", \"requests_result\"], \n",
    "    template=template,\n",
    ")\n",
    "requests_chain = LLMRequestsChain(llm_chain = LLMChain(llm=OpenAI(temperature=0), prompt=PROMPT))\n",
    "question = \"今天上海天气怎么样?\"\n",
    "inputs = { \n",
    "    \"query\": question, \n",
    "    \"url\": \"https://www.google.com.hk/search?oq=&aqs=chrome.0.35i39i362l8.171200j0j7&sourceid=chrome&ie=UTF-8&q=\" + question.replace(\" \", \"+\")\n",
    "}"
   ]
  },
  {
   "cell_type": "code",
   "execution_count": 4,
   "id": "87d91159",
   "metadata": {},
   "outputs": [
    {
     "name": "stdout",
     "output_type": "stream",
     "text": [
      "{'query': '今天上海天气怎么样?', 'url': 'https://www.google.com.hk/search?oq=&aqs=chrome.0.35i39i362l8.171200j0j7&sourceid=chrome&ie=UTF-8&q=今天上海天气怎么样?', 'output': ' 明天白天32℃多云东南风微风;'}\n",
      " 明天白天32℃多云东南风微风;\n"
     ]
    }
   ],
   "source": [
    "result=requests_chain(inputs)\n",
    "print(result)\n",
    "print(result['output'])"
   ]
  }
 ],
 "metadata": {
  "kernelspec": {
   "display_name": "Python 3 (ipykernel)",
   "language": "python",
   "name": "python3"
  },
  "language_info": {
   "codemirror_mode": {
    "name": "ipython",
    "version": 3
   },
   "file_extension": ".py",
   "mimetype": "text/x-python",
   "name": "python",
   "nbconvert_exporter": "python",
   "pygments_lexer": "ipython3",
   "version": "3.10.11"
  }
 },
 "nbformat": 4,
 "nbformat_minor": 5
}
