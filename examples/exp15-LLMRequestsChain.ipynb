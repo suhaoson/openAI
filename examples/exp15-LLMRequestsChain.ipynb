{
 "cells": [
  {
   "cell_type": "code",
   "execution_count": null,
   "id": "f635aa6a",
   "metadata": {},
   "outputs": [],
   "source": [
    "import openai, os\n",
    "from langchain.chains import LLMRequestsChain\n",
    "from langchain.prompts import PromptTemplate\n",
    "from langchain.llms import OpenAI\n",
    "from langchain.chains import LLMChain"
   ]
  },
  {
   "cell_type": "code",
   "execution_count": null,
   "id": "903f1cf4",
   "metadata": {},
   "outputs": [],
   "source": [
    "os.environ['OPENAI_API_KEY'] = '*'\n",
    "openai.api_key = os.environ.get(\"OPENAI_API_KEY\")"
   ]
  },
  {
   "cell_type": "code",
   "execution_count": null,
   "id": "76520a58",
   "metadata": {},
   "outputs": [],
   "source": [
    "template = \"\"\"在 >>> 和 <<< 直接是来自Google的原始搜索结果.\n",
    "请把对于问题 '{query}' 的答案从里面提取出来，如果里面没有相关信息的话就说 \"找不到\"\n",
    "请使用如下格式：\n",
    "Extracted:\n",
    ">>> {requests_result} <<\n",
    "Extracted:\"\"\"\n",
    "PROMPT = PromptTemplate( \n",
    "    input_variables=[\"query\", \"requests_result\"], \n",
    "    template=template,\n",
    ")\n",
    "requests_chain = LLMRequestsChain(llm_chain = LLMChain(llm=OpenAI(temperature=0), prompt=PROMPT))\n",
    "question = \"今天上海的天气怎么样？\"\n",
    "inputs = { \n",
    "    \"query\": question, \n",
    "    \"url\": \"https://www.google.com.hk/search?oq=&aqs=chrome.0.35i39i362l8.171200j0j7&sourceid=chrome&ie=UTF-8&q=\" + question.replace(\" \", \"+\")\n",
    "}"
   ]
  },
  {
   "cell_type": "code",
   "execution_count": null,
   "id": "28162556",
   "metadata": {},
   "outputs": [],
   "source": [
    "result=requests_chain(inputs)\n",
    "print(result)\n",
    "print(result['output'])"
   ]
  },
  {
   "cell_type": "code",
   "execution_count": null,
   "id": "dbe43e46",
   "metadata": {},
   "outputs": [],
   "source": [
    "import re\n",
    "def parse_weather_info(weather_info: str) -> dict: \n",
    "    # 将天气信息拆分成不同部分 \n",
    "    parts = weather_info.split('；') \n",
    "    # 解析天气 \n",
    "    weather = parts[0].strip() \n",
    "    # 解析温度范围，并提取最小和最大温度 \n",
    "    temperature_range = parts[1].strip().replace('℃', '').split('～') \n",
    "    temperature_min = int(temperature_range[0]) \n",
    "    temperature_max = int(temperature_range[1]) \n",
    "    # 解析风向和风力 \n",
    "    wind_parts = parts[2].split(' ') \n",
    "    wind_direction = wind_parts[0].strip() \n",
    "    wind_force = wind_parts[1].strip() \n",
    "    # 返回解析后的天气信息字典 \n",
    "    weather_dict = { \n",
    "        'weather': weather, \n",
    "        'temperature_min': temperature_min, \n",
    "        'temperature_max': temperature_max, \n",
    "        'wind_direction': wind_direction, \n",
    "        'wind_force': wind_force \n",
    "    }\n",
    "    \n",
    "    return weather_dict"
   ]
  },
  {
   "cell_type": "code",
   "execution_count": null,
   "id": "46d2ff86",
   "metadata": {},
   "outputs": [],
   "source": [
    "from langchain.chains import TransformChain, SequentialChain"
   ]
  },
  {
   "cell_type": "code",
   "execution_count": null,
   "id": "0d123467",
   "metadata": {},
   "outputs": [],
   "source": [
    "def transform_func(inputs: dict) -> dict: \n",
    "    text = inputs[\"output\"] \n",
    "    return {\"weather_info\" : parse_weather_info(text)}"
   ]
  },
  {
   "cell_type": "code",
   "execution_count": null,
   "id": "b495c171",
   "metadata": {},
   "outputs": [],
   "source": [
    "transformation_chain = TransformChain(input_variables=[\"output\"], \n",
    "    output_variables=[\"weather_info\"], transform=transform_func)\n",
    "final_chain = SequentialChain(chains=[requests_chain, transformation_chain], \n",
    "                              input_variables=[\"query\", \"url\"], output_variables=[\"weather_info\"])\n",
    "final_result = final_chain.run(inputs)\n",
    "print(final_result)"
   ]
  }
 ],
 "metadata": {
  "kernelspec": {
   "display_name": "Python 3 (ipykernel)",
   "language": "python",
   "name": "python3"
  },
  "language_info": {
   "codemirror_mode": {
    "name": "ipython",
    "version": 3
   },
   "file_extension": ".py",
   "mimetype": "text/x-python",
   "name": "python",
   "nbconvert_exporter": "python",
   "pygments_lexer": "ipython3",
   "version": "3.10.11"
  }
 },
 "nbformat": 4,
 "nbformat_minor": 5
}
