{
 "cells": [
  {
   "cell_type": "code",
   "execution_count": 1,
   "id": "48568015",
   "metadata": {},
   "outputs": [],
   "source": [
    "import openai\n",
    "import os"
   ]
  },
  {
   "cell_type": "code",
   "execution_count": 2,
   "id": "9e2c6692",
   "metadata": {},
   "outputs": [],
   "source": [
    "openai.api_key = os.environ.get(\"OPENAI_API_KEY\")"
   ]
  },
  {
   "cell_type": "code",
   "execution_count": 3,
   "id": "4c9d9c05",
   "metadata": {},
   "outputs": [],
   "source": [
    "class Conversation:\n",
    "    def __init__(self, prompt, num_of_round):\n",
    "        self.prompt = prompt\n",
    "        self.num_of_round = num_of_round\n",
    "        self.messages = []\n",
    "        self.messages.append({\"role\": \"system\", \"content\": self.prompt})\n",
    "\n",
    "    def ask(self, question):\n",
    "        try:\n",
    "            self.messages.append({\"role\": \"user\", \"content\": question})\n",
    "            response = openai.ChatCompletion.create(\n",
    "                model=\"gpt-3.5-turbo\",\n",
    "                messages=self.messages,\n",
    "                temperature=0.5,\n",
    "                max_tokens=2048,\n",
    "                top_p=1,\n",
    "            )\n",
    "        except Exception as e:\n",
    "            print('error:', e)\n",
    "            return e\n",
    "\n",
    "        message = response[\"choices\"][0][\"message\"][\"content\"]\n",
    "        self.messages.append({\"role\": \"assistant\", \"content\": message})\n",
    "\n",
    "        if len(self.messages) > self.num_of_round*2 + 1:\n",
    "#             delIndex = self.messages[1:3] \n",
    "    #         // Remove the first round conversation left.\n",
    "            del self.messages[1:3] \n",
    "        return message"
   ]
  },
  {
   "cell_type": "code",
   "execution_count": 4,
   "id": "c89cd19b",
   "metadata": {},
   "outputs": [],
   "source": [
    "prompt = \"\"\"你是一个中国厨师，用中文回答做菜的问题。你的回答需要满足以下要求:\n",
    "1. 你的回答必须是中文\n",
    "2. 回答限制在100个字以内\"\"\""
   ]
  },
  {
   "cell_type": "code",
   "execution_count": 5,
   "id": "4f1aa298",
   "metadata": {},
   "outputs": [
    {
     "name": "stdout",
     "output_type": "stream",
     "text": [
      "User : 你是谁？\n",
      "Assistant : 我是一个AI语言模型，专门用于回答各种问题，包括做菜的问题。\n",
      "\n",
      "User : 请问鱼香肉丝怎么做？\n",
      "error: Error communicating with OpenAI: ('Connection aborted.', RemoteDisconnected('Remote end closed connection without response'))\n",
      "Assistant : Error communicating with OpenAI: ('Connection aborted.', RemoteDisconnected('Remote end closed connection without response'))\n",
      "\n",
      "User : 那蚝油牛肉呢？\n",
      "Assistant : 蚝油牛肉的做法很简单。你需要准备牛肉、蚝油、生抽、老抽、料酒、姜、蒜等材料。先将牛肉切成薄片，加入生抽、老抽、料酒腌制10分钟。热锅凉油，爆香姜蒜，加入牛肉翻炒至变色。加入蚝油继续翻炒，最后加入适量水，煮至汁浓肉熟即可。\n",
      "\n"
     ]
    }
   ],
   "source": [
    "conv1 = Conversation(prompt, 2)\n",
    "question1 = \"你是谁？\"\n",
    "print(\"User : %s\" % question1)\n",
    "print(\"Assistant : %s\\n\" % conv1.ask(question1))\n",
    "\n",
    "question2 = \"请问鱼香肉丝怎么做？\"\n",
    "print(\"User : %s\" % question2)\n",
    "print(\"Assistant : %s\\n\" % conv1.ask(question2))\n",
    "\n",
    "question3 = \"那蚝油牛肉呢？\"\n",
    "print(\"User : %s\" % question3)\n",
    "print(\"Assistant : %s\\n\" % conv1.ask(question3))"
   ]
  },
  {
   "cell_type": "code",
   "execution_count": null,
   "id": "631e7f21",
   "metadata": {},
   "outputs": [],
   "source": []
  }
 ],
 "metadata": {
  "kernelspec": {
   "display_name": "Python 3 (ipykernel)",
   "language": "python",
   "name": "python3"
  },
  "language_info": {
   "codemirror_mode": {
    "name": "ipython",
    "version": 3
   },
   "file_extension": ".py",
   "mimetype": "text/x-python",
   "name": "python",
   "nbconvert_exporter": "python",
   "pygments_lexer": "ipython3",
   "version": "3.10.11"
  }
 },
 "nbformat": 4,
 "nbformat_minor": 5
}
