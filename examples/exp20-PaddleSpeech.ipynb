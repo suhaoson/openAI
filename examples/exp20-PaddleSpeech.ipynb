{
 "cells": [
  {
   "cell_type": "code",
   "execution_count": null,
   "id": "e5ea513d",
   "metadata": {},
   "outputs": [],
   "source": [
    "from paddlespeech.cli.tts.infer import TTSExecutor"
   ]
  },
  {
   "cell_type": "code",
   "execution_count": null,
   "id": "fd74cc44",
   "metadata": {},
   "outputs": [],
   "source": [
    "tts_executor = TTSExecutor()\n",
    "\n",
    "text = \"今天天气十分不错，百度也能做语音合成。\"\n",
    "output_file = \"./data/paddlespeech.wav\"\n",
    "tts_executor(text=text, output=output_file)"
   ]
  }
 ],
 "metadata": {
  "kernelspec": {
   "display_name": "Python 3 (ipykernel)",
   "language": "python",
   "name": "python3"
  },
  "language_info": {
   "codemirror_mode": {
    "name": "ipython",
    "version": 3
   },
   "file_extension": ".py",
   "mimetype": "text/x-python",
   "name": "python",
   "nbconvert_exporter": "python",
   "pygments_lexer": "ipython3",
   "version": "3.10.11"
  }
 },
 "nbformat": 4,
 "nbformat_minor": 5
}
