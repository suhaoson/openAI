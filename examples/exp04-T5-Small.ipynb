{
 "cells": [
  {
   "cell_type": "code",
   "execution_count": 1,
   "id": "83dfbccc",
   "metadata": {},
   "outputs": [
    {
     "ename": "ModuleNotFoundError",
     "evalue": "No module named 'transformers'",
     "output_type": "error",
     "traceback": [
      "\u001b[0;31m---------------------------------------------------------------------------\u001b[0m",
      "\u001b[0;31mModuleNotFoundError\u001b[0m                       Traceback (most recent call last)",
      "Cell \u001b[0;32mIn[1], line 1\u001b[0m\n\u001b[0;32m----> 1\u001b[0m \u001b[38;5;28;01mfrom\u001b[39;00m \u001b[38;5;21;01mtransformers\u001b[39;00m \u001b[38;5;28;01mimport\u001b[39;00m T5Tokenizer, T5Model\n\u001b[1;32m      2\u001b[0m \u001b[38;5;28;01mimport\u001b[39;00m \u001b[38;5;21;01mtorch\u001b[39;00m\n\u001b[1;32m      4\u001b[0m \u001b[38;5;66;03m# load the T5 tokenizer and model\u001b[39;00m\n",
      "\u001b[0;31mModuleNotFoundError\u001b[0m: No module named 'transformers'"
     ]
    }
   ],
   "source": [
    "from transformers import T5Tokenizer, T5Model\n",
    "import torch\n",
    "\n",
    "# load the T5 tokenizer and model\n",
    "tokenizer = T5Tokenizer.from_pretrained('t5-small', model_max_length=512)\n",
    "model = T5Model.from_pretrained('t5-small')\n",
    "# set the model to evaluation mode\n",
    "model.eval()\n",
    "\n",
    "# encode the input sentence\n",
    "def get_t5_vector(line):\n",
    "    input_ids = tokenizer.encode(line, return_tensors='pt', max_length=512, truncation=True)\n",
    "    # generate the vector representation\n",
    "    with torch.no_grad():\n",
    "        outputs = model.encoder(input_ids=input_ids)\n",
    "        vector = outputs.last_hidden_state.mean(dim=1)\n",
    "    return vector[0]\n",
    "\n",
    "positive_review_in_t5 = get_t5_vector(\"An Amazon review with a positive sentiment.\")\n",
    "negative_review_in_t5 = get_t5_vector('An Amazon review with a negative sentiment.')\n",
    "\n",
    "def test_t5():\n",
    "    positive_example_in_t5 = get_t5_vector(positive_text)\n",
    "    negative_example_in_t5 = get_t5_vector(negative_text)\n",
    "\n",
    "    def get_t5_score(sample_embedding):\n",
    "        return cosine_similarity(sample_embedding, positive_review_in_t5) - cosine_similarity(sample_embedding, negative_example_in_t5)\n",
    "                                                                                      \n",
    "    positive_score = get_t5_score(positive_example_in_t5)\n",
    "    negative_score = get_t5_score(negative_example_in_t5)\n",
    "    print(\"T5好评例子的评分 : %f\" % (positive_score))\n",
    "    print(\"T5差评例子的评分 : %f\" % (negative_score))\n",
    "test_t5()"
   ]
  },
  {
   "cell_type": "code",
   "execution_count": null,
   "id": "2c4c6931",
   "metadata": {},
   "outputs": [],
   "source": []
  }
 ],
 "metadata": {
  "kernelspec": {
   "display_name": "Python 3 (ipykernel)",
   "language": "python",
   "name": "python3"
  },
  "language_info": {
   "codemirror_mode": {
    "name": "ipython",
    "version": 3
   },
   "file_extension": ".py",
   "mimetype": "text/x-python",
   "name": "python",
   "nbconvert_exporter": "python",
   "pygments_lexer": "ipython3",
   "version": "3.10.11"
  }
 },
 "nbformat": 4,
 "nbformat_minor": 5
}
