{
 "cells": [
  {
   "cell_type": "code",
   "execution_count": null,
   "id": "88a07c50",
   "metadata": {},
   "outputs": [],
   "source": [
    "\n",
    "import openai, os\n",
    "\n",
    "openai.api_key = os.environ.get(\"OPENAI_API_KEY\")\n",
    "\n",
    "from langchain.prompts import PromptTemplate\n",
    "from langchain.llms import OpenAIChat\n",
    "from langchain.chains import LLMChain\n",
    "\n",
    "llm = OpenAIChat(max_tokens=2048, temperature=0.5)\n",
    "multiple_choice = \"\"\"\n",
    "请针对 >>> 和 <<< 中间的用户问题，选择一个合适的工具去回答她的问题。只要用A、B、C的选项字母告诉我答案。\n",
    "如果你觉得都不合适，就选D。\n",
    "\n",
    ">>>{question}<<<\n",
    "\n",
    "我们有的工具包括：\n",
    "A. 一个能够查询商品信息，为用户进行商品导购的工具\n",
    "B. 一个能够查询订单信息，获得最新的订单情况的工具\n",
    "C. 一个能够搜索商家的退换货政策、运费、物流时长、支付渠道、覆盖国家的工具\n",
    "D. 都不合适\n",
    "\"\"\"\n",
    "multiple_choice_prompt = PromptTemplate(template=multiple_choice, input_variables=[\"question\"])\n",
    "choice_chain = LLMChain(llm=llm, prompt=multiple_choice_prompt, output_key=\"answer\")"
   ]
  }
 ],
 "metadata": {
  "kernelspec": {
   "display_name": "Python 3 (ipykernel)",
   "language": "python",
   "name": "python3"
  },
  "language_info": {
   "codemirror_mode": {
    "name": "ipython",
    "version": 3
   },
   "file_extension": ".py",
   "mimetype": "text/x-python",
   "name": "python",
   "nbconvert_exporter": "python",
   "pygments_lexer": "ipython3",
   "version": "3.10.11"
  }
 },
 "nbformat": 4,
 "nbformat_minor": 5
}
