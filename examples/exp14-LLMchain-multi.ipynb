{
 "cells": [
  {
   "cell_type": "code",
   "execution_count": 1,
   "id": "5f8d5458",
   "metadata": {},
   "outputs": [],
   "source": [
    "import openai, os\n",
    "from langchain.prompts import PromptTemplate\n",
    "from langchain.llms import OpenAI\n",
    "from langchain.chains import LLMChain\n",
    "from langchain.chains import SequentialChain"
   ]
  },
  {
   "cell_type": "code",
   "execution_count": 3,
   "id": "5fc8ee24",
   "metadata": {},
   "outputs": [],
   "source": [
    "openai.api_key = os.environ.get(\"OPENAI_API_KEY\")"
   ]
  },
  {
   "cell_type": "code",
   "execution_count": 4,
   "id": "eb78ff9f",
   "metadata": {},
   "outputs": [],
   "source": [
    "llm = OpenAI(model_name=\"text-davinci-003\", max_tokens=2048, temperature=0.5)"
   ]
  },
  {
   "cell_type": "code",
   "execution_count": 5,
   "id": "399bfcdc",
   "metadata": {},
   "outputs": [],
   "source": [
    "q1_prompt = PromptTemplate(\n",
    "    input_variables=[\"year1\"],\n",
    "    template=\"{year1}年的欧冠联赛的冠军是哪支球队，只说球队名称。\"\n",
    ")\n",
    "q2_prompt = PromptTemplate(\n",
    "    input_variables=[\"year2\"],\n",
    "    template=\"{year2}年的欧冠联赛的冠军是哪支球队，只说球队名称。\"\n",
    ")\n",
    "q3_prompt = PromptTemplate(\n",
    "    input_variables=[\"team1\", \"team2\"],\n",
    "    template=\"{team1}和{team2}哪只球队获得欧冠的次数多一些？\"\n",
    ")"
   ]
  },
  {
   "cell_type": "code",
   "execution_count": 6,
   "id": "24bd860f",
   "metadata": {},
   "outputs": [],
   "source": [
    "chain1 = LLMChain(llm=llm, prompt=q1_prompt, output_key=\"team1\")"
   ]
  },
  {
   "cell_type": "code",
   "execution_count": 7,
   "id": "e7083e4c",
   "metadata": {},
   "outputs": [],
   "source": [
    "chain2 = LLMChain(llm=llm, prompt=q2_prompt, output_key=\"team2\")"
   ]
  },
  {
   "cell_type": "code",
   "execution_count": 8,
   "id": "09ff2e19",
   "metadata": {},
   "outputs": [],
   "source": [
    "chain3 = LLMChain(llm=llm, prompt=q3_prompt)"
   ]
  },
  {
   "cell_type": "code",
   "execution_count": 9,
   "id": "441b6773",
   "metadata": {},
   "outputs": [],
   "source": [
    "sequential_chain = SequentialChain(chains=[chain1, chain2, chain3], input_variables=[\"year1\", \"year2\"], verbose=True)"
   ]
  },
  {
   "cell_type": "code",
   "execution_count": 10,
   "id": "685251d6",
   "metadata": {},
   "outputs": [
    {
     "name": "stdout",
     "output_type": "stream",
     "text": [
      "\n",
      "\n",
      "\u001b[1m> Entering new  chain...\u001b[0m\n",
      "\n",
      "\u001b[1m> Finished chain.\u001b[0m\n"
     ]
    }
   ],
   "source": [
    "\n",
    "answer = sequential_chain.run(year1=2000, year2=2010)"
   ]
  },
  {
   "cell_type": "code",
   "execution_count": 11,
   "id": "05d0f009",
   "metadata": {},
   "outputs": [
    {
     "name": "stdout",
     "output_type": "stream",
     "text": [
      "\n",
      "\n",
      "拜仁慕尼黑获得欧冠的次数更多，共计8次，而皇家马德里只获得3次。\n"
     ]
    }
   ],
   "source": [
    "print(answer)"
   ]
  },
  {
   "cell_type": "code",
   "execution_count": null,
   "id": "91997c47",
   "metadata": {},
   "outputs": [],
   "source": []
  }
 ],
 "metadata": {
  "kernelspec": {
   "display_name": "Python 3 (ipykernel)",
   "language": "python",
   "name": "python3"
  },
  "language_info": {
   "codemirror_mode": {
    "name": "ipython",
    "version": 3
   },
   "file_extension": ".py",
   "mimetype": "text/x-python",
   "name": "python",
   "nbconvert_exporter": "python",
   "pygments_lexer": "ipython3",
   "version": "3.10.11"
  }
 },
 "nbformat": 4,
 "nbformat_minor": 5
}
